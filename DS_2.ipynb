{
 "cells": [
  {
   "cell_type": "code",
   "execution_count": 1,
   "metadata": {
    "collapsed": false
   },
   "outputs": [],
   "source": [
    "# Standard\n",
    "import numpy as np\n",
    "import pandas as pd\n",
    "from numpy.random import randn\n",
    "from pandas import Series, DataFrame\n",
    "\n",
    "# Stats\n",
    "import math\n",
    "import random\n",
    "from scipy import stats\n",
    "\n",
    "import sklearn\n",
    "#from sklearn.model_selection import KFold\n",
    "\n",
    "# Plotting\n",
    "import matplotlib as mpl\n",
    "import matplotlib.pyplot as plt\n",
    "import seaborn as sns\n",
    "#plt.style.use('ggplot')\n",
    "\n",
    "# Command so that plots appear in the iPython Notebook\n",
    "%matplotlib inline\n",
    "\n",
    "# Time access and conversions\n",
    "import time"
   ]
  },
  {
   "cell_type": "markdown",
   "metadata": {},
   "source": [
    "### <font color='blue'> 1. Gnerate x = a sequence of points, y = sin(x)+a small random error;</font>"
   ]
  },
  {
   "cell_type": "code",
   "execution_count": 169,
   "metadata": {
    "collapsed": false,
    "scrolled": false
   },
   "outputs": [
    {
     "data": {
      "text/html": [
       "<div>\n",
       "<table border=\"1\" class=\"dataframe\">\n",
       "  <thead>\n",
       "    <tr style=\"text-align: right;\">\n",
       "      <th></th>\n",
       "      <th>x</th>\n",
       "      <th>sin_x</th>\n",
       "      <th>a</th>\n",
       "      <th>y</th>\n",
       "    </tr>\n",
       "  </thead>\n",
       "  <tbody>\n",
       "    <tr>\n",
       "      <th>0</th>\n",
       "      <td>0.076405</td>\n",
       "      <td>0.076331</td>\n",
       "      <td>0.434544</td>\n",
       "      <td>0.510875</td>\n",
       "    </tr>\n",
       "    <tr>\n",
       "      <th>1</th>\n",
       "      <td>2.636231</td>\n",
       "      <td>0.484124</td>\n",
       "      <td>-0.343739</td>\n",
       "      <td>0.140384</td>\n",
       "    </tr>\n",
       "    <tr>\n",
       "      <th>2</th>\n",
       "      <td>1.540915</td>\n",
       "      <td>0.999554</td>\n",
       "      <td>3.143697</td>\n",
       "      <td>4.143251</td>\n",
       "    </tr>\n",
       "    <tr>\n",
       "      <th>3</th>\n",
       "      <td>-1.626200</td>\n",
       "      <td>-0.998466</td>\n",
       "      <td>-0.010904</td>\n",
       "      <td>-1.009370</td>\n",
       "    </tr>\n",
       "    <tr>\n",
       "      <th>4</th>\n",
       "      <td>-0.485499</td>\n",
       "      <td>-0.466650</td>\n",
       "      <td>-1.151345</td>\n",
       "      <td>-1.617995</td>\n",
       "    </tr>\n",
       "  </tbody>\n",
       "</table>\n",
       "</div>"
      ],
      "text/plain": [
       "          x     sin_x         a         y\n",
       "0  0.076405  0.076331  0.434544  0.510875\n",
       "1  2.636231  0.484124 -0.343739  0.140384\n",
       "2  1.540915  0.999554  3.143697  4.143251\n",
       "3 -1.626200 -0.998466 -0.010904 -1.009370\n",
       "4 -0.485499 -0.466650 -1.151345 -1.617995"
      ]
     },
     "execution_count": 169,
     "metadata": {},
     "output_type": "execute_result"
    }
   ],
   "source": [
    "df = DataFrame(randn(400),columns=['x'])\n",
    "df['sin_x'] = np.sin(df['x'])\n",
    "df['a'] = DataFrame(np.random.randn(400))\n",
    "df['y'] = df.sin_x + df.a\n",
    "df.head()"
   ]
  },
  {
   "cell_type": "markdown",
   "metadata": {},
   "source": [
    "### <font color='blue'> 2. Draw a scatter plot of x and y </font>"
   ]
  },
  {
   "cell_type": "code",
   "execution_count": 65,
   "metadata": {
    "collapsed": false
   },
   "outputs": [
    {
     "data": {
      "text/plain": [
       "<seaborn.axisgrid.JointGrid at 0xe0b9160>"
      ]
     },
     "execution_count": 65,
     "metadata": {},
     "output_type": "execute_result"
    },
    {
     "data": {
      "image/png": "[encoded data removed]",
      "text/plain": [
       "<matplotlib.figure.Figure at 0xe0b9198>"
      ]
     },
     "metadata": {},
     "output_type": "display_data"
    }
   ],
   "source": [
    "sns.jointplot(df.sin_x,df.y)"
   ]
  },
  {
   "cell_type": "markdown",
   "metadata": {},
   "source": [
    "### <font color='blue'> 3. Run a linear regression model to predict y, using only one feature--x; print out the CV score of your model and the mathematical formula of your model; </font>\n"
   ]
  },
  {
   "cell_type": "markdown",
   "metadata": {},
   "source": [
    "* 5-fold cross-validation on a dataset with 400 samples\n",
    "* [Cross-validation: evaluating estimator performance](http://scikit-learn.org/stable/modules/cross_validation.html)"
   ]
  },
  {
   "cell_type": "code",
   "execution_count": 89,
   "metadata": {
    "collapsed": false
   },
   "outputs": [
    {
     "data": {
      "text/plain": [
       "(400L, 1L)"
      ]
     },
     "execution_count": 89,
     "metadata": {},
     "output_type": "execute_result"
    }
   ],
   "source": [
    "# Set up Y as target\n",
    "Y = df.y\n",
    "# Use v to make X two-dimensional\n",
    "X = np.vstack(df.x)\n",
    "X.shape"
   ]
  },
  {
   "cell_type": "code",
   "execution_count": 90,
   "metadata": {
    "collapsed": false
   },
   "outputs": [
    {
     "data": {
      "text/plain": [
       "LinearRegression(copy_X=True, fit_intercept=True, n_jobs=1, normalize=False)"
      ]
     },
     "execution_count": 90,
     "metadata": {},
     "output_type": "execute_result"
    }
   ],
   "source": [
    "# Import the cross alidation and linear regression\n",
    "from sklearn import cross_validation\n",
    "from sklearn.linear_model import LinearRegression\n",
    "\n",
    "# Create linear regression object\n",
    "linreg = LinearRegression()\n",
    "\n",
    "# Train the model using the training sets\n",
    "linreg.fit(X,Y)"
   ]
  },
  {
   "cell_type": "code",
   "execution_count": 117,
   "metadata": {
    "collapsed": false
   },
   "outputs": [
    {
     "name": "stdout",
     "output_type": "stream",
     "text": [
      "CV Score: 0.25 (+/- 0.15)\n"
     ]
    }
   ],
   "source": [
    "# 10-fold cross-validation for Linear Regression\n",
    "scores = cross_validation.cross_val_score(linreg, X, Y, cv = 4)\n",
    "#print \"MSE=\" +scores.mean() + \"+/-\" + scores.std()\n",
    "#print(\"CV Scores: Mean = %s, std = %s\" % (scores.mean(), scores.std()))\n",
    "print(\"CV Score: %0.2f (+/- %0.2f)\" % (scores.mean(), scores.std() * 2))"
   ]
  },
  {
   "cell_type": "code",
   "execution_count": 129,
   "metadata": {
    "collapsed": false
   },
   "outputs": [
    {
     "name": "stdout",
     "output_type": "stream",
     "text": [
      "Y =    0.02 +   0.25 * X\n",
      "N= 400,  Slope=   0.25,  Intercept=   0.02,  R2=   0.24,  P_value= 5.42e-26\n"
     ]
    }
   ],
   "source": [
    "# Obtaining predictions by cross-validation\n",
    "from sklearn.model_selection import cross_val_predict\n",
    "from sklearn import metrics\n",
    "predicted = cross_val_predict(linreg, X, Y, cv = 4)\n",
    "\n",
    "slope, intercept, r_value, p_value, std_err = stats.linregress(Y, predicted)\n",
    "\n",
    "# print out the mathematical formula of  model\n",
    "info = \"N= %2i,  Slope= %6.2f,  Intercept= %6.2f,  R2= %6.2f,  P_value= %6.2e\"%\\\n",
    "  (len(Y),slope,intercept,r_value*r_value,p_value)\n",
    "\n",
    "formula = \"Y =  %6.2f + %6.2f * X\"%\\\n",
    "  (intercept,slope,)\n",
    "\n",
    "print formula\n",
    "print info"
   ]
  },
  {
   "cell_type": "markdown",
   "metadata": {},
   "source": [
    "### <font color='blue'> 4. Draw a plot showing your predicted y, the real y, and ground truth--sin(x);</font>"
   ]
  },
  {
   "cell_type": "code",
   "execution_count": 132,
   "metadata": {
    "collapsed": false
   },
   "outputs": [
    {
     "data": {
      "image/png": "[encoded data removed]",
      "text/plain": [
       "<matplotlib.figure.Figure at 0xe68a668>"
      ]
     },
     "metadata": {},
     "output_type": "display_data"
    }
   ],
   "source": [
    "# Plot\n",
    "fig, ax = plt.subplots()\n",
    "ax.scatter(Y, predicted)\n",
    "ax.plot([Y.min(), Y.max()], [Y.min(), Y.max()], 'k--', lw=4)\n",
    "ax.set_xlabel('Measured')\n",
    "ax.set_ylabel('Predicted')\n",
    "plt.show()"
   ]
  },
  {
   "cell_type": "markdown",
   "metadata": {},
   "source": [
    "### <font color='blue'> 5. Try to run a linear model using two features--x and x**2; print out CV score and mathematical formula;</font>"
   ]
  },
  {
   "cell_type": "code",
   "execution_count": 170,
   "metadata": {
    "collapsed": false
   },
   "outputs": [
    {
     "data": {
      "text/html": [
       "<div>\n",
       "<table border=\"1\" class=\"dataframe\">\n",
       "  <thead>\n",
       "    <tr style=\"text-align: right;\">\n",
       "      <th></th>\n",
       "      <th>x</th>\n",
       "      <th>sin_x</th>\n",
       "      <th>a</th>\n",
       "      <th>y</th>\n",
       "      <th>x2</th>\n",
       "    </tr>\n",
       "  </thead>\n",
       "  <tbody>\n",
       "    <tr>\n",
       "      <th>0</th>\n",
       "      <td>0.076405</td>\n",
       "      <td>0.076331</td>\n",
       "      <td>0.434544</td>\n",
       "      <td>0.510875</td>\n",
       "      <td>0.005838</td>\n",
       "    </tr>\n",
       "    <tr>\n",
       "      <th>1</th>\n",
       "      <td>2.636231</td>\n",
       "      <td>0.484124</td>\n",
       "      <td>-0.343739</td>\n",
       "      <td>0.140384</td>\n",
       "      <td>6.949715</td>\n",
       "    </tr>\n",
       "    <tr>\n",
       "      <th>2</th>\n",
       "      <td>1.540915</td>\n",
       "      <td>0.999554</td>\n",
       "      <td>3.143697</td>\n",
       "      <td>4.143251</td>\n",
       "      <td>2.374419</td>\n",
       "    </tr>\n",
       "    <tr>\n",
       "      <th>3</th>\n",
       "      <td>-1.626200</td>\n",
       "      <td>-0.998466</td>\n",
       "      <td>-0.010904</td>\n",
       "      <td>-1.009370</td>\n",
       "      <td>2.644525</td>\n",
       "    </tr>\n",
       "    <tr>\n",
       "      <th>4</th>\n",
       "      <td>-0.485499</td>\n",
       "      <td>-0.466650</td>\n",
       "      <td>-1.151345</td>\n",
       "      <td>-1.617995</td>\n",
       "      <td>0.235710</td>\n",
       "    </tr>\n",
       "  </tbody>\n",
       "</table>\n",
       "</div>"
      ],
      "text/plain": [
       "          x     sin_x         a         y        x2\n",
       "0  0.076405  0.076331  0.434544  0.510875  0.005838\n",
       "1  2.636231  0.484124 -0.343739  0.140384  6.949715\n",
       "2  1.540915  0.999554  3.143697  4.143251  2.374419\n",
       "3 -1.626200 -0.998466 -0.010904 -1.009370  2.644525\n",
       "4 -0.485499 -0.466650 -1.151345 -1.617995  0.235710"
      ]
     },
     "execution_count": 170,
     "metadata": {},
     "output_type": "execute_result"
    }
   ],
   "source": [
    "# create new feature x**2\n",
    "df['x2'] = df.x ** 2\n",
    "#df.drop(['sin_x','a'],inplace=True,axis=1)\n",
    "df.head()"
   ]
  },
  {
   "cell_type": "code",
   "execution_count": 178,
   "metadata": {
    "collapsed": false
   },
   "outputs": [
    {
     "data": {
      "text/html": [
       "<div>\n",
       "<table border=\"1\" class=\"dataframe\">\n",
       "  <thead>\n",
       "    <tr style=\"text-align: right;\">\n",
       "      <th></th>\n",
       "      <th>x</th>\n",
       "      <th>x2</th>\n",
       "    </tr>\n",
       "  </thead>\n",
       "  <tbody>\n",
       "    <tr>\n",
       "      <th>0</th>\n",
       "      <td>0.076405</td>\n",
       "      <td>0.005838</td>\n",
       "    </tr>\n",
       "    <tr>\n",
       "      <th>1</th>\n",
       "      <td>2.636231</td>\n",
       "      <td>6.949715</td>\n",
       "    </tr>\n",
       "    <tr>\n",
       "      <th>2</th>\n",
       "      <td>1.540915</td>\n",
       "      <td>2.374419</td>\n",
       "    </tr>\n",
       "    <tr>\n",
       "      <th>3</th>\n",
       "      <td>-1.626200</td>\n",
       "      <td>2.644525</td>\n",
       "    </tr>\n",
       "    <tr>\n",
       "      <th>4</th>\n",
       "      <td>-0.485499</td>\n",
       "      <td>0.235710</td>\n",
       "    </tr>\n",
       "  </tbody>\n",
       "</table>\n",
       "</div>"
      ],
      "text/plain": [
       "          x        x2\n",
       "0  0.076405  0.005838\n",
       "1  2.636231  6.949715\n",
       "2  1.540915  2.374419\n",
       "3 -1.626200  2.644525\n",
       "4 -0.485499  0.235710"
      ]
     },
     "execution_count": 178,
     "metadata": {},
     "output_type": "execute_result"
    }
   ],
   "source": [
    "# Set up Y as target\n",
    "Y = df.y\n",
    "# set up X \n",
    "X = df[['x','x2']]\n",
    "X.head()"
   ]
  },
  {
   "cell_type": "code",
   "execution_count": 179,
   "metadata": {
    "collapsed": false
   },
   "outputs": [
    {
     "name": "stdout",
     "output_type": "stream",
     "text": [
      "CV Score: 0.25 (+/- 0.04)\n"
     ]
    }
   ],
   "source": [
    "# 10-fold cross-validation for Linear Regression\n",
    "scores = cross_validation.cross_val_score(linreg, X, Y, cv = 4)\n",
    "#print \"MSE=\" +scores.mean() + \"+/-\" + scores.std()\n",
    "#print(\"CV Scores: Mean = %s, std = %s\" % (scores.mean(), scores.std()))\n",
    "print(\"CV Score: %0.2f (+/- %0.2f)\" % (scores.mean(), scores.std() * 2))"
   ]
  },
  {
   "cell_type": "code",
   "execution_count": 180,
   "metadata": {
    "collapsed": false
   },
   "outputs": [
    {
     "name": "stdout",
     "output_type": "stream",
     "text": [
      "Y =   -0.09 +   0.28 * X\n",
      "N= 400,  Slope=   0.28,  Intercept=  -0.09,  R2=   0.26,  P_value= 1.14e-27\n"
     ]
    }
   ],
   "source": [
    "# Obtaining predictions by cross-validation\n",
    "\n",
    "predicted = cross_val_predict(linreg, X, Y, cv = 4)\n",
    "\n",
    "slope, intercept, r_value, p_value, std_err = stats.linregress(Y, predicted)\n",
    "\n",
    "# print out the mathematical formula of  model\n",
    "info = \"N= %2i,  Slope= %6.2f,  Intercept= %6.2f,  R2= %6.2f,  P_value= %6.2e\"%\\\n",
    "  (len(Y),slope,intercept,r_value*r_value,p_value)\n",
    "\n",
    "formula = \"Y =  %6.2f + %6.2f * X\"%\\\n",
    "  (intercept,slope,)\n",
    "\n",
    "print formula\n",
    "print info"
   ]
  },
  {
   "cell_type": "markdown",
   "metadata": {},
   "source": [
    "### <font color='blue'> 6. Try linear models with feature from x, to x, x2, x3,... x**15, and plot the training score and validation score showing what happens when feature set gets larger; Accoding to the result you get, what's the best number of features here;</font>"
   ]
  },
  {
   "cell_type": "code",
   "execution_count": 190,
   "metadata": {
    "collapsed": false
   },
   "outputs": [
    {
     "name": "stdout",
     "output_type": "stream",
     "text": [
      "+------------------+\n",
      "|     power_1      |\n",
      "+------------------+\n",
      "| 0.0764048549441  |\n",
      "|  2.63623128529   |\n",
      "|  1.54091488205   |\n",
      "|  -1.62619969009  |\n",
      "| -0.485499339975  |\n",
      "| -0.0755615464132 |\n",
      "|  0.323483471027  |\n",
      "|  0.331348480456  |\n",
      "|  -1.90165571438  |\n",
      "| 0.0439918421228  |\n",
      "+------------------+\n",
      "[400 rows x 1 columns]\n",
      "Note: Only the head of the SFrame is printed.\n",
      "You can use print_rows(num_rows=m, num_columns=n) to print more rows and columns.\n"
     ]
    }
   ],
   "source": [
    "import graphlab\n",
    "\n",
    "# create an empty SFrame using graphlab.SFrame() and make the column 'power_1' to be the first power of tmp (i.e. tmp itself).\n",
    "tmp = np.array(df.x)\n",
    "\n",
    "ex_sframe = graphlab.SFrame()\n",
    "ex_sframe['power_1'] = tmp\n",
    "print ex_sframe"
   ]
  },
  {
   "cell_type": "code",
   "execution_count": 188,
   "metadata": {
    "collapsed": true
   },
   "outputs": [],
   "source": [
    "# Polynomial sframe function\n",
    "\n",
    "def polynomial_sframe(feature, degree):\n",
    "    # assume that degree >= 1\n",
    "    # initialize the SFrame:\n",
    "    poly_sframe = graphlab.SFrame()\n",
    "    # and set poly_sframe['power_1'] equal to the passed feature\n",
    "    poly_sframe['power_1'] = feature\n",
    "    # first check if degree > 1\n",
    "    if degree > 1:\n",
    "        # then loop over the remaining degrees:\n",
    "        # range usually starts at 0 and stops at the endpoint-1. We want it to start at 2 and stop at degree\n",
    "        for power in range(2, degree+1): \n",
    "            # first we'll give the column a name:\n",
    "            name = 'power_' + str(power)\n",
    "            # then assign poly_sframe[name] to the appropriate power of feature\n",
    "            poly_sframe[name] = feature ** power\n",
    "    return poly_sframe"
   ]
  },
  {
   "cell_type": "code",
   "execution_count": 191,
   "metadata": {
    "collapsed": false,
    "scrolled": true
   },
   "outputs": [
    {
     "name": "stdout",
     "output_type": "stream",
     "text": [
      "+------------------+------------------+--------------------+-------------------+\n",
      "|     power_1      |     power_2      |      power_3       |      power_4      |\n",
      "+------------------+------------------+--------------------+-------------------+\n",
      "| 0.0764048549441  | 0.00583770185903 | 0.000446028763746  | 3.40787629949e-05 |\n",
      "|  2.63623128529   |  6.94971538952   |   18.3210571337    |   48.2985439953   |\n",
      "|  1.54091488205   |  2.37441867373   |   3.65877707058    |   5.63786403817   |\n",
      "|  -1.62619969009  |  2.64452543205   |   -4.30052643804   |   6.99351476076   |\n",
      "| -0.485499339975  |  0.235709609117  |  -0.114436859652   |  0.0555590198299  |\n",
      "| -0.0755615464132 | 0.00570954729636 | -0.000431422223033 | 3.25989303294e-05 |\n",
      "|  0.323483471027  |  0.104641556028  |  0.0338498137575   |  0.0109498552479  |\n",
      "|  0.331348480456  |  0.109791815501  |  0.0363793512326   |  0.0120542427509  |\n",
      "|  -1.90165571438  |  3.61629445602   |   -6.87694701715   |   13.0775855926   |\n",
      "| 0.0439918421228  | 0.00193528217336 | 8.51366278333e-05  | 3.74531709051e-06 |\n",
      "+------------------+------------------+--------------------+-------------------+\n",
      "+--------------------+-------------------+--------------------+\n",
      "|      power_5       |      power_6      |      power_7       |\n",
      "+--------------------+-------------------+--------------------+\n",
      "|  2.6037829433e-06  | 1.98941658089e-07 | 1.52001085286e-08  |\n",
      "|   127.326132714    |   335.661134495   |   884.880384011    |\n",
      "|   8.68746859942    |   13.3866496522   |   20.6276876699    |\n",
      "|   -11.3728515366   |   18.4945276442   |   -30.0757951234   |\n",
      "|  -0.0269738674571  |   0.013095794847  | -0.00635799975467  |\n",
      "| -2.46322558711e-06 | 1.86125134526e-07 | -1.40639029912e-08 |\n",
      "|  0.00354209718284  |  0.00114580989142 | 0.000370650560813  |\n",
      "|  0.00399415501856  |  0.00132345719611 | 0.000438525530878  |\n",
      "|   -24.8690653725   |   47.2924002767   |   -89.9338632328   |\n",
      "| 1.64763398145e-07  | 7.24824539883e-09 | 3.18863667252e-10  |\n",
      "+--------------------+-------------------+--------------------+\n",
      "+-------------------+--------------------+-------------------+\n",
      "|      power_8      |      power_9       |      power_10     |\n",
      "+-------------------+--------------------+-------------------+\n",
      "| 1.16136208726e-09 |  8.8733701815e-11  | 6.77968561583e-12 |\n",
      "|   2332.74935206   |   6149.66682264    |   16211.9440719   |\n",
      "|   31.7855109129   |   48.9787667994    |   75.4721106658   |\n",
      "|    48.909248709   |   -79.536205093    |   129.341752073   |\n",
      "|  0.00308680468446 | -0.00149864163694  | 0.000727589525593 |\n",
      "| 1.06269025862e-09 | -8.02985192996e-11 | 6.06748029297e-12 |\n",
      "|  0.00011989932995 |  3.8785451426e-05  | 1.25464524526e-05 |\n",
      "| 0.000145304768298 | 4.81465141785e-05  | 1.59532743123e-05 |\n",
      "|   171.023244932   |   -325.227331017   |    618.4704125    |\n",
      "| 1.40274001085e-11 | 6.17091170964e-13  | 2.71469773684e-14 |\n",
      "+-------------------+--------------------+-------------------+\n",
      "+--------------------+-------------------+--------------------+\n",
      "|      power_11      |      power_12     |      power_13      |\n",
      "+--------------------+-------------------+--------------------+\n",
      "| 5.18000896044e-13  | 3.95777833232e-14 | 3.02393479382e-15  |\n",
      "|   42738.4341577    |   112668.397211   |    297019.95359    |\n",
      "|   116.296098505    |   179.202388911   |   276.135627973    |\n",
      "|   -210.335517137   |   342.047552784   |   -556.237624333   |\n",
      "| -0.000353244234448 | 0.000171499842675 | -8.32630604245e-05 |\n",
      "| -4.58468193769e-13 | 3.46425657025e-14 | -2.6176458362e-15  |\n",
      "| 4.05856998846e-06  | 1.31288030727e-06 |  4.2469507884e-07  |\n",
      "| 5.28609320167e-06  | 1.75153894992e-06 | 5.80369769517e-07  |\n",
      "|   -1176.1177941    |   2236.57112393   |   -4253.18825844   |\n",
      "|  1.1942455425e-15  | 5.25370613616e-17 | 2.31120210902e-18  |\n",
      "+--------------------+-------------------+--------------------+\n",
      "+-------------------+--------------------+\n",
      "|      power_14     |      power_15      |\n",
      "+-------------------+--------------------+\n",
      "| 2.31043299282e-16 | 1.76528297674e-17  |\n",
      "|   783013.294007   |   2064204.14246    |\n",
      "|   425.501498608   |   655.661591541    |\n",
      "|   904.553452307   |   -1470.98454381   |\n",
      "| 4.04241608804e-05 | -1.96259034265e-05 |\n",
      "| 1.97793367345e-16 | -1.49455727069e-17 |\n",
      "| 1.37381838231e-07 | 4.44407538871e-08  |\n",
      "| 1.92304641232e-07 | 6.37198506569e-08  |\n",
      "|   8088.09975597   |   -15380.7811194   |\n",
      "| 1.01674038294e-19 |  4.4728282406e-21  |\n",
      "+-------------------+--------------------+\n",
      "[400 rows x 15 columns]\n",
      "Note: Only the head of the SFrame is printed.\n",
      "You can use print_rows(num_rows=m, num_columns=n) to print more rows and columns.\n"
     ]
    }
   ],
   "source": [
    "print polynomial_sframe(tmp, 15)"
   ]
  },
  {
   "cell_type": "code",
   "execution_count": null,
   "metadata": {
    "collapsed": true
   },
   "outputs": [],
   "source": [
    "# Polynomial sframe function\n",
    "\n",
    "def polynomial_sframe(feature, degree):\n",
    "    # assume that degree >= 1\n",
    "    # initialize the SFrame:\n",
    "    poly_sframe = graphlab.SFrame()\n",
    "    # and set poly_sframe['power_1'] equal to the passed feature\n",
    "    poly_sframe['power_1'] = feature\n",
    "    # first check if degree > 1\n",
    "    if degree > 1:\n",
    "        # then loop over the remaining degrees:\n",
    "        # range usually starts at 0 and stops at the endpoint-1. We want it to start at 2 and stop at degree\n",
    "        for power in range(2, degree+1): \n",
    "            # first we'll give the column a name:\n",
    "            name = 'power_' + str(power)\n",
    "            # then assign poly_sframe[name] to the appropriate power of feature\n",
    "            poly_sframe[name] = feature ** power\n",
    "    return poly_sframe"
   ]
  },
  {
   "cell_type": "code",
   "execution_count": null,
   "metadata": {
    "collapsed": true
   },
   "outputs": [],
   "source": []
  },
  {
   "cell_type": "code",
   "execution_count": null,
   "metadata": {
    "collapsed": true
   },
   "outputs": [],
   "source": []
  },
  {
   "cell_type": "code",
   "execution_count": null,
   "metadata": {
    "collapsed": true
   },
   "outputs": [],
   "source": []
  },
  {
   "cell_type": "markdown",
   "metadata": {},
   "source": [
    "### <font color='blue'> 7. download a .xlsx file with multiple sheets and read them all into pandas dataframe</font>"
   ]
  },
  {
   "cell_type": "code",
   "execution_count": null,
   "metadata": {
    "collapsed": true
   },
   "outputs": [],
   "source": []
  },
  {
   "cell_type": "code",
   "execution_count": null,
   "metadata": {
    "collapsed": true
   },
   "outputs": [],
   "source": []
  },
  {
   "cell_type": "code",
   "execution_count": null,
   "metadata": {
    "collapsed": true
   },
   "outputs": [],
   "source": []
  },
  {
   "cell_type": "code",
   "execution_count": null,
   "metadata": {
    "collapsed": true
   },
   "outputs": [],
   "source": []
  },
  {
   "cell_type": "code",
   "execution_count": null,
   "metadata": {
    "collapsed": true
   },
   "outputs": [],
   "source": []
  },
  {
   "cell_type": "code",
   "execution_count": null,
   "metadata": {
    "collapsed": true
   },
   "outputs": [],
   "source": []
  },
  {
   "cell_type": "code",
   "execution_count": null,
   "metadata": {
    "collapsed": true
   },
   "outputs": [],
   "source": []
  },
  {
   "cell_type": "code",
   "execution_count": null,
   "metadata": {
    "collapsed": true
   },
   "outputs": [],
   "source": []
  }
 ],
 "metadata": {
  "anaconda-cloud": {},
  "kernelspec": {
   "display_name": "Python [conda env:gl-env]",
   "language": "python",
   "name": "conda-env-gl-env-py"
  },
  "language_info": {
   "codemirror_mode": {
    "name": "ipython",
    "version": 2
   },
   "file_extension": ".py",
   "mimetype": "text/x-python",
   "name": "python",
   "nbconvert_exporter": "python",
   "pygments_lexer": "ipython2",
   "version": "2.7.11"
  }
 },
 "nbformat": 4,
 "nbformat_minor": 1
}

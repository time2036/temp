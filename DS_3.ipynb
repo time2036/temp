{
 "cells": [
  {
   "cell_type": "markdown",
   "metadata": {},
   "source": [
    "# National Electronic Injury Surveillance System (NEISS)\n",
    "\n",
    "CPSC’s National Electronic Injury Surveillance System ([NEISS](https://www.cpsc.gov/Research--Statistics/NEISS-Injury-Data/)) is a national probability sample of hospitals in the U.S. and its territories. Patient information is collected from each NEISS hospital for every emergency visit involving an injury associated with consumer products. From this sample, the total number of product-related injuries treated in hospital emergency rooms nationwide can be estimated. This web access to NEISS allows certain estimates to be retrieved on-line. These estimates can be focused by setting some or all of the following variables (and an example of each):\n",
    "\n",
    "- Date (one year maximum range; e.g., how many injuries were treated in 1996)\n",
    "- Product (e.g., how many bicycle injuries occurred)\n",
    "- Sex (e.g., how many injuries occurred to women)\n",
    "- Age (e.g., how many injuries occurred to people aged 35-55)\n",
    "- Diagnosis (e.g., how many lacerations occurred)\n",
    "- Disposition (e.g., how many people were admitted to the hospital)\n",
    "- Locale (e.g., how many injuries occurred at a school)\n",
    "- Body part (e.g., how many injuries involved the knee)"
   ]
  },
  {
   "cell_type": "markdown",
   "metadata": {},
   "source": [
    "### <font color='blue'> Getting the Data </font>"
   ]
  },
  {
   "cell_type": "code",
   "execution_count": 6,
   "metadata": {
    "collapsed": false
   },
   "outputs": [],
   "source": [
    "# Standard\n",
    "import numpy as np\n",
    "import pandas as pd\n",
    "import os\n",
    "from pandas import Series, DataFrame\n",
    "\n",
    "# Stats\n",
    "import math\n",
    "from scipy import stats\n",
    "import sklearn\n",
    "\n",
    "# Plotting\n",
    "import matplotlib as mpl\n",
    "import matplotlib.pyplot as plt\n",
    "import seaborn as sns\n",
    "plt.style.use('ggplot')\n",
    "# Command so that plots appear in the iPython Notebook\n",
    "%matplotlib inline "
   ]
  },
  {
   "cell_type": "code",
   "execution_count": 103,
   "metadata": {
    "collapsed": false,
    "scrolled": true
   },
   "outputs": [
    {
     "data": {
      "text/html": [
       "<div>\n",
       "<table border=\"1\" class=\"dataframe\">\n",
       "  <thead>\n",
       "    <tr style=\"text-align: right;\">\n",
       "      <th></th>\n",
       "      <th>CPSC Case #</th>\n",
       "      <th>trmt_date</th>\n",
       "      <th>psu</th>\n",
       "      <th>weight</th>\n",
       "      <th>stratum</th>\n",
       "      <th>age</th>\n",
       "      <th>sex</th>\n",
       "      <th>race</th>\n",
       "      <th>race_other</th>\n",
       "      <th>diag_other</th>\n",
       "      <th>location</th>\n",
       "      <th>fmv</th>\n",
       "      <th>prod1</th>\n",
       "      <th>prod2</th>\n",
       "      <th>narrative</th>\n",
       "      <th>BodyPartCode</th>\n",
       "      <th>DiagnosisCode</th>\n",
       "      <th>DispositionCode</th>\n",
       "    </tr>\n",
       "  </thead>\n",
       "  <tbody>\n",
       "    <tr>\n",
       "      <th>0</th>\n",
       "      <td>141200216</td>\n",
       "      <td>2014-10-23</td>\n",
       "      <td>63</td>\n",
       "      <td>99.704</td>\n",
       "      <td>M</td>\n",
       "      <td>21</td>\n",
       "      <td>Female</td>\n",
       "      <td>None listed</td>\n",
       "      <td>NaN</td>\n",
       "      <td>NaN</td>\n",
       "      <td>1</td>\n",
       "      <td>0</td>\n",
       "      <td>679</td>\n",
       "      <td>1807.0</td>\n",
       "      <td>21YOF LAYING ON THE COUCH AND ROLLED OFF TO TH...</td>\n",
       "      <td>75</td>\n",
       "      <td>62</td>\n",
       "      <td>1</td>\n",
       "    </tr>\n",
       "    <tr>\n",
       "      <th>1</th>\n",
       "      <td>140117851</td>\n",
       "      <td>2014-01-04</td>\n",
       "      <td>63</td>\n",
       "      <td>81.576</td>\n",
       "      <td>M</td>\n",
       "      <td>62</td>\n",
       "      <td>Female</td>\n",
       "      <td>White</td>\n",
       "      <td>NaN</td>\n",
       "      <td>NaN</td>\n",
       "      <td>1</td>\n",
       "      <td>0</td>\n",
       "      <td>1807</td>\n",
       "      <td>115.0</td>\n",
       "      <td>62YOF TRIPPED OVER THE CORD FOR THE VACUUM CLE...</td>\n",
       "      <td>79</td>\n",
       "      <td>57</td>\n",
       "      <td>1</td>\n",
       "    </tr>\n",
       "    <tr>\n",
       "      <th>2</th>\n",
       "      <td>150144993</td>\n",
       "      <td>2014-08-17</td>\n",
       "      <td>63</td>\n",
       "      <td>99.704</td>\n",
       "      <td>M</td>\n",
       "      <td>21</td>\n",
       "      <td>Female</td>\n",
       "      <td>None listed</td>\n",
       "      <td>NaN</td>\n",
       "      <td>NaN</td>\n",
       "      <td>0</td>\n",
       "      <td>0</td>\n",
       "      <td>1333</td>\n",
       "      <td>NaN</td>\n",
       "      <td>21YOF FELL OFF A SKATEBOARD AND FRACTURED FOOT</td>\n",
       "      <td>83</td>\n",
       "      <td>57</td>\n",
       "      <td>1</td>\n",
       "    </tr>\n",
       "    <tr>\n",
       "      <th>3</th>\n",
       "      <td>150230176</td>\n",
       "      <td>2014-07-27</td>\n",
       "      <td>63</td>\n",
       "      <td>99.704</td>\n",
       "      <td>M</td>\n",
       "      <td>30</td>\n",
       "      <td>Female</td>\n",
       "      <td>None listed</td>\n",
       "      <td>NaN</td>\n",
       "      <td>NaN</td>\n",
       "      <td>1</td>\n",
       "      <td>0</td>\n",
       "      <td>4076</td>\n",
       "      <td>NaN</td>\n",
       "      <td>30YOF TRYING TO GET OUT OF BED AND FELT A POP ...</td>\n",
       "      <td>79</td>\n",
       "      <td>64</td>\n",
       "      <td>1</td>\n",
       "    </tr>\n",
       "    <tr>\n",
       "      <th>4</th>\n",
       "      <td>141220717</td>\n",
       "      <td>2014-09-08</td>\n",
       "      <td>63</td>\n",
       "      <td>99.704</td>\n",
       "      <td>M</td>\n",
       "      <td>16</td>\n",
       "      <td>Male</td>\n",
       "      <td>None listed</td>\n",
       "      <td>NaN</td>\n",
       "      <td>NaN</td>\n",
       "      <td>0</td>\n",
       "      <td>0</td>\n",
       "      <td>1893</td>\n",
       "      <td>NaN</td>\n",
       "      <td>16YOM HAD HAND SLAMMED IN A DOOR FRACTURED HAND</td>\n",
       "      <td>82</td>\n",
       "      <td>57</td>\n",
       "      <td>1</td>\n",
       "    </tr>\n",
       "  </tbody>\n",
       "</table>\n",
       "</div>"
      ],
      "text/plain": [
       "   CPSC Case #  trmt_date  psu  weight stratum  age     sex         race  \\\n",
       "0    141200216 2014-10-23   63  99.704       M   21  Female  None listed   \n",
       "1    140117851 2014-01-04   63  81.576       M   62  Female        White   \n",
       "2    150144993 2014-08-17   63  99.704       M   21  Female  None listed   \n",
       "3    150230176 2014-07-27   63  99.704       M   30  Female  None listed   \n",
       "4    141220717 2014-09-08   63  99.704       M   16    Male  None listed   \n",
       "\n",
       "  race_other diag_other  location  fmv  prod1   prod2  \\\n",
       "0        NaN        NaN         1    0    679  1807.0   \n",
       "1        NaN        NaN         1    0   1807   115.0   \n",
       "2        NaN        NaN         0    0   1333     NaN   \n",
       "3        NaN        NaN         1    0   4076     NaN   \n",
       "4        NaN        NaN         0    0   1893     NaN   \n",
       "\n",
       "                                           narrative  BodyPartCode  \\\n",
       "0  21YOF LAYING ON THE COUCH AND ROLLED OFF TO TH...            75   \n",
       "1  62YOF TRIPPED OVER THE CORD FOR THE VACUUM CLE...            79   \n",
       "2    21YOF FELL OFF A SKATEBOARD AND FRACTURED FOOT             83   \n",
       "3  30YOF TRYING TO GET OUT OF BED AND FELT A POP ...            79   \n",
       "4   16YOM HAD HAND SLAMMED IN A DOOR FRACTURED HAND             82   \n",
       "\n",
       "   DiagnosisCode  DispositionCode  \n",
       "0             62                1  \n",
       "1             57                1  \n",
       "2             57                1  \n",
       "3             64                1  \n",
       "4             57                1  "
      ]
     },
     "execution_count": 103,
     "metadata": {},
     "output_type": "execute_result"
    }
   ],
   "source": [
    "df_NEISS = pd.read_excel('NEISS2014.xlsx')\n",
    "df_NEISS['BodyPartCode'] = df_NEISS['body_part']\n",
    "df_NEISS['DiagnosisCode'] = df_NEISS['diag']\n",
    "df_NEISS['DispositionCode'] = df_NEISS['disposition']\n",
    "df_NEISS = df_NEISS.drop(['body_part','diag','disposition'],1)\n",
    "df_NEISS.head()"
   ]
  },
  {
   "cell_type": "code",
   "execution_count": 104,
   "metadata": {
    "collapsed": false,
    "scrolled": true
   },
   "outputs": [
    {
     "name": "stdout",
     "output_type": "stream",
     "text": [
      "<class 'pandas.core.frame.DataFrame'>\n",
      "RangeIndex: 65499 entries, 0 to 65498\n",
      "Data columns (total 18 columns):\n",
      "CPSC Case #        65499 non-null int64\n",
      "trmt_date          65499 non-null datetime64[ns]\n",
      "psu                65499 non-null int64\n",
      "weight             65499 non-null float64\n",
      "stratum            65499 non-null object\n",
      "age                65499 non-null int64\n",
      "sex                65499 non-null object\n",
      "race               65499 non-null object\n",
      "race_other         3577 non-null object\n",
      "diag_other         8119 non-null object\n",
      "location           65499 non-null int64\n",
      "fmv                65499 non-null int64\n",
      "prod1              65499 non-null int64\n",
      "prod2              8446 non-null float64\n",
      "narrative          65499 non-null object\n",
      "BodyPartCode       65499 non-null int64\n",
      "DiagnosisCode      65499 non-null int64\n",
      "DispositionCode    65499 non-null int64\n",
      "dtypes: datetime64[ns](1), float64(2), int64(9), object(6)\n",
      "memory usage: 9.0+ MB\n"
     ]
    }
   ],
   "source": [
    "df_NEISS.info()"
   ]
  },
  {
   "cell_type": "code",
   "execution_count": 105,
   "metadata": {
    "collapsed": false
   },
   "outputs": [
    {
     "data": {
      "text/plain": [
       "(65499, 18)"
      ]
     },
     "execution_count": 105,
     "metadata": {},
     "output_type": "execute_result"
    }
   ],
   "source": [
    "df_NEISS.shape"
   ]
  },
  {
   "cell_type": "code",
   "execution_count": 80,
   "metadata": {
    "collapsed": false
   },
   "outputs": [
    {
     "data": {
      "text/html": [
       "<div>\n",
       "<table border=\"1\" class=\"dataframe\">\n",
       "  <thead>\n",
       "    <tr style=\"text-align: right;\">\n",
       "      <th></th>\n",
       "      <th>BodyPart</th>\n",
       "      <th>BodyPartCode</th>\n",
       "    </tr>\n",
       "  </thead>\n",
       "  <tbody>\n",
       "    <tr>\n",
       "      <th>0</th>\n",
       "      <td>Arm, lower</td>\n",
       "      <td>33</td>\n",
       "    </tr>\n",
       "    <tr>\n",
       "      <th>1</th>\n",
       "      <td>Arm, upper</td>\n",
       "      <td>80</td>\n",
       "    </tr>\n",
       "    <tr>\n",
       "      <th>2</th>\n",
       "      <td>Ankle</td>\n",
       "      <td>37</td>\n",
       "    </tr>\n",
       "    <tr>\n",
       "      <th>3</th>\n",
       "      <td>Ear</td>\n",
       "      <td>94</td>\n",
       "    </tr>\n",
       "    <tr>\n",
       "      <th>4</th>\n",
       "      <td>Elbow</td>\n",
       "      <td>32</td>\n",
       "    </tr>\n",
       "  </tbody>\n",
       "</table>\n",
       "</div>"
      ],
      "text/plain": [
       "     BodyPart  BodyPartCode\n",
       "0  Arm, lower            33\n",
       "1  Arm, upper            80\n",
       "2       Ankle            37\n",
       "3         Ear            94\n",
       "4       Elbow            32"
      ]
     },
     "execution_count": 80,
     "metadata": {},
     "output_type": "execute_result"
    }
   ],
   "source": [
    "df_body = pd.read_excel('BodyParts.xlsx')\n",
    "df_body['BodyPartCode'] = df_body['Code']\n",
    "df_body = df_body.drop('Code',1)\n",
    "df_body.head()"
   ]
  },
  {
   "cell_type": "code",
   "execution_count": 77,
   "metadata": {
    "collapsed": false
   },
   "outputs": [
    {
     "data": {
      "text/html": [
       "<div>\n",
       "<table border=\"1\" class=\"dataframe\">\n",
       "  <thead>\n",
       "    <tr style=\"text-align: right;\">\n",
       "      <th></th>\n",
       "      <th>Diagnosis</th>\n",
       "      <th>DiagnosisCode</th>\n",
       "    </tr>\n",
       "  </thead>\n",
       "  <tbody>\n",
       "    <tr>\n",
       "      <th>0</th>\n",
       "      <td>Amputation</td>\n",
       "      <td>50</td>\n",
       "    </tr>\n",
       "    <tr>\n",
       "      <th>1</th>\n",
       "      <td>Anoxia</td>\n",
       "      <td>65</td>\n",
       "    </tr>\n",
       "    <tr>\n",
       "      <th>2</th>\n",
       "      <td>Aspirated foreign object</td>\n",
       "      <td>42</td>\n",
       "    </tr>\n",
       "    <tr>\n",
       "      <th>3</th>\n",
       "      <td>Avulsion</td>\n",
       "      <td>72</td>\n",
       "    </tr>\n",
       "    <tr>\n",
       "      <th>4</th>\n",
       "      <td>Burns, scald (from hot liquids or steam)</td>\n",
       "      <td>48</td>\n",
       "    </tr>\n",
       "  </tbody>\n",
       "</table>\n",
       "</div>"
      ],
      "text/plain": [
       "                                  Diagnosis  DiagnosisCode\n",
       "0                                Amputation             50\n",
       "1                                    Anoxia             65\n",
       "2                  Aspirated foreign object             42\n",
       "3                                  Avulsion             72\n",
       "4  Burns, scald (from hot liquids or steam)             48"
      ]
     },
     "execution_count": 77,
     "metadata": {},
     "output_type": "execute_result"
    }
   ],
   "source": [
    "df_diag = pd.read_excel('DiagnosisCodes.xlsx')\n",
    "df_diag['DiagnosisCode'] = df_diag['Code']\n",
    "df_diag = df_diag.drop('Code',1)\n",
    "df_diag.head()"
   ]
  },
  {
   "cell_type": "code",
   "execution_count": 78,
   "metadata": {
    "collapsed": false
   },
   "outputs": [
    {
     "data": {
      "text/html": [
       "<div>\n",
       "<table border=\"1\" class=\"dataframe\">\n",
       "  <thead>\n",
       "    <tr style=\"text-align: right;\">\n",
       "      <th></th>\n",
       "      <th>Disposition</th>\n",
       "      <th>DispositionCode</th>\n",
       "    </tr>\n",
       "  </thead>\n",
       "  <tbody>\n",
       "    <tr>\n",
       "      <th>0</th>\n",
       "      <td>Treated and released, or examined and released...</td>\n",
       "      <td>1</td>\n",
       "    </tr>\n",
       "    <tr>\n",
       "      <th>1</th>\n",
       "      <td>Treated and transferred to another hospital</td>\n",
       "      <td>2</td>\n",
       "    </tr>\n",
       "    <tr>\n",
       "      <th>2</th>\n",
       "      <td>Treated and admitted for hospitalization (with...</td>\n",
       "      <td>4</td>\n",
       "    </tr>\n",
       "    <tr>\n",
       "      <th>3</th>\n",
       "      <td>Held for observation (includes admitted for ob...</td>\n",
       "      <td>5</td>\n",
       "    </tr>\n",
       "    <tr>\n",
       "      <th>4</th>\n",
       "      <td>Left without being seen/Left against medical a...</td>\n",
       "      <td>6</td>\n",
       "    </tr>\n",
       "  </tbody>\n",
       "</table>\n",
       "</div>"
      ],
      "text/plain": [
       "                                         Disposition  DispositionCode\n",
       "0  Treated and released, or examined and released...                1\n",
       "1        Treated and transferred to another hospital                2\n",
       "2  Treated and admitted for hospitalization (with...                4\n",
       "3  Held for observation (includes admitted for ob...                5\n",
       "4  Left without being seen/Left against medical a...                6"
      ]
     },
     "execution_count": 78,
     "metadata": {},
     "output_type": "execute_result"
    }
   ],
   "source": [
    "df_disp = pd.read_excel('Disposition.xlsx')\n",
    "df_disp['DispositionCode'] = df_disp['Code']\n",
    "df_disp = df_disp.drop('Code',1)\n",
    "df_disp.head()"
   ]
  },
  {
   "cell_type": "code",
   "execution_count": 226,
   "metadata": {
    "collapsed": false
   },
   "outputs": [
    {
     "data": {
      "text/html": [
       "<div>\n",
       "<table border=\"1\" class=\"dataframe\">\n",
       "  <thead>\n",
       "    <tr style=\"text-align: right;\">\n",
       "      <th></th>\n",
       "      <th>CPSC Case #</th>\n",
       "      <th>trmt_date</th>\n",
       "      <th>psu</th>\n",
       "      <th>weight</th>\n",
       "      <th>stratum</th>\n",
       "      <th>age</th>\n",
       "      <th>sex</th>\n",
       "      <th>race</th>\n",
       "      <th>race_other</th>\n",
       "      <th>diag_other</th>\n",
       "      <th>...</th>\n",
       "      <th>fmv</th>\n",
       "      <th>prod1</th>\n",
       "      <th>prod2</th>\n",
       "      <th>narrative</th>\n",
       "      <th>BodyPartCode</th>\n",
       "      <th>DiagnosisCode</th>\n",
       "      <th>DispositionCode</th>\n",
       "      <th>BodyPart</th>\n",
       "      <th>Diagnosis</th>\n",
       "      <th>Disposition</th>\n",
       "    </tr>\n",
       "  </thead>\n",
       "  <tbody>\n",
       "    <tr>\n",
       "      <th>0</th>\n",
       "      <td>141200216</td>\n",
       "      <td>2014-10-23</td>\n",
       "      <td>63</td>\n",
       "      <td>99.704</td>\n",
       "      <td>M</td>\n",
       "      <td>21</td>\n",
       "      <td>Female</td>\n",
       "      <td>None listed</td>\n",
       "      <td>NaN</td>\n",
       "      <td>NaN</td>\n",
       "      <td>...</td>\n",
       "      <td>0</td>\n",
       "      <td>679</td>\n",
       "      <td>1807.0</td>\n",
       "      <td>21YOF LAYING ON THE COUCH AND ROLLED OFF TO TH...</td>\n",
       "      <td>75</td>\n",
       "      <td>62</td>\n",
       "      <td>1</td>\n",
       "      <td>Head</td>\n",
       "      <td>Internal organ injury</td>\n",
       "      <td>Treated and released, or examined and released...</td>\n",
       "    </tr>\n",
       "    <tr>\n",
       "      <th>1</th>\n",
       "      <td>140452479</td>\n",
       "      <td>2014-04-18</td>\n",
       "      <td>63</td>\n",
       "      <td>81.576</td>\n",
       "      <td>M</td>\n",
       "      <td>5</td>\n",
       "      <td>Female</td>\n",
       "      <td>White</td>\n",
       "      <td>NaN</td>\n",
       "      <td>NaN</td>\n",
       "      <td>...</td>\n",
       "      <td>0</td>\n",
       "      <td>4076</td>\n",
       "      <td>1870.0</td>\n",
       "      <td>5YOF JUMPING ON THE BED AND STRUCK HEAD ON A M...</td>\n",
       "      <td>75</td>\n",
       "      <td>62</td>\n",
       "      <td>1</td>\n",
       "      <td>Head</td>\n",
       "      <td>Internal organ injury</td>\n",
       "      <td>Treated and released, or examined and released...</td>\n",
       "    </tr>\n",
       "    <tr>\n",
       "      <th>2</th>\n",
       "      <td>150148600</td>\n",
       "      <td>2014-08-11</td>\n",
       "      <td>63</td>\n",
       "      <td>99.704</td>\n",
       "      <td>M</td>\n",
       "      <td>53</td>\n",
       "      <td>Female</td>\n",
       "      <td>None listed</td>\n",
       "      <td>NaN</td>\n",
       "      <td>NaN</td>\n",
       "      <td>...</td>\n",
       "      <td>0</td>\n",
       "      <td>4074</td>\n",
       "      <td>628.0</td>\n",
       "      <td>53YOF STANDING ON A PLASTIC CHAIR TRYING TO RE...</td>\n",
       "      <td>75</td>\n",
       "      <td>62</td>\n",
       "      <td>1</td>\n",
       "      <td>Head</td>\n",
       "      <td>Internal organ injury</td>\n",
       "      <td>Treated and released, or examined and released...</td>\n",
       "    </tr>\n",
       "    <tr>\n",
       "      <th>3</th>\n",
       "      <td>141147985</td>\n",
       "      <td>2014-10-04</td>\n",
       "      <td>63</td>\n",
       "      <td>99.704</td>\n",
       "      <td>M</td>\n",
       "      <td>80</td>\n",
       "      <td>Female</td>\n",
       "      <td>None listed</td>\n",
       "      <td>NaN</td>\n",
       "      <td>NaN</td>\n",
       "      <td>...</td>\n",
       "      <td>0</td>\n",
       "      <td>4076</td>\n",
       "      <td>1807.0</td>\n",
       "      <td>80YOF ROLLED OUT OF BED TO THE FLOOR AT THE NU...</td>\n",
       "      <td>75</td>\n",
       "      <td>62</td>\n",
       "      <td>1</td>\n",
       "      <td>Head</td>\n",
       "      <td>Internal organ injury</td>\n",
       "      <td>Treated and released, or examined and released...</td>\n",
       "    </tr>\n",
       "    <tr>\n",
       "      <th>4</th>\n",
       "      <td>140433503</td>\n",
       "      <td>2014-04-10</td>\n",
       "      <td>63</td>\n",
       "      <td>81.576</td>\n",
       "      <td>M</td>\n",
       "      <td>204</td>\n",
       "      <td>Male</td>\n",
       "      <td>White</td>\n",
       "      <td>NaN</td>\n",
       "      <td>NaN</td>\n",
       "      <td>...</td>\n",
       "      <td>0</td>\n",
       "      <td>1522</td>\n",
       "      <td>NaN</td>\n",
       "      <td>4MOM FELL OUT OF A STROLLER ONTO SIDEWALK ONTO...</td>\n",
       "      <td>75</td>\n",
       "      <td>62</td>\n",
       "      <td>1</td>\n",
       "      <td>Head</td>\n",
       "      <td>Internal organ injury</td>\n",
       "      <td>Treated and released, or examined and released...</td>\n",
       "    </tr>\n",
       "  </tbody>\n",
       "</table>\n",
       "<p>5 rows × 21 columns</p>\n",
       "</div>"
      ],
      "text/plain": [
       "   CPSC Case #  trmt_date  psu  weight stratum  age     sex         race  \\\n",
       "0    141200216 2014-10-23   63  99.704       M   21  Female  None listed   \n",
       "1    140452479 2014-04-18   63  81.576       M    5  Female        White   \n",
       "2    150148600 2014-08-11   63  99.704       M   53  Female  None listed   \n",
       "3    141147985 2014-10-04   63  99.704       M   80  Female  None listed   \n",
       "4    140433503 2014-04-10   63  81.576       M  204    Male        White   \n",
       "\n",
       "  race_other diag_other                        ...                          \\\n",
       "0        NaN        NaN                        ...                           \n",
       "1        NaN        NaN                        ...                           \n",
       "2        NaN        NaN                        ...                           \n",
       "3        NaN        NaN                        ...                           \n",
       "4        NaN        NaN                        ...                           \n",
       "\n",
       "   fmv  prod1   prod2                                          narrative  \\\n",
       "0    0    679  1807.0  21YOF LAYING ON THE COUCH AND ROLLED OFF TO TH...   \n",
       "1    0   4076  1870.0  5YOF JUMPING ON THE BED AND STRUCK HEAD ON A M...   \n",
       "2    0   4074   628.0  53YOF STANDING ON A PLASTIC CHAIR TRYING TO RE...   \n",
       "3    0   4076  1807.0  80YOF ROLLED OUT OF BED TO THE FLOOR AT THE NU...   \n",
       "4    0   1522     NaN  4MOM FELL OUT OF A STROLLER ONTO SIDEWALK ONTO...   \n",
       "\n",
       "  BodyPartCode  DiagnosisCode  DispositionCode  BodyPart  \\\n",
       "0           75             62                1      Head   \n",
       "1           75             62                1      Head   \n",
       "2           75             62                1      Head   \n",
       "3           75             62                1      Head   \n",
       "4           75             62                1      Head   \n",
       "\n",
       "               Diagnosis                                        Disposition  \n",
       "0  Internal organ injury  Treated and released, or examined and released...  \n",
       "1  Internal organ injury  Treated and released, or examined and released...  \n",
       "2  Internal organ injury  Treated and released, or examined and released...  \n",
       "3  Internal organ injury  Treated and released, or examined and released...  \n",
       "4  Internal organ injury  Treated and released, or examined and released...  \n",
       "\n",
       "[5 rows x 21 columns]"
      ]
     },
     "execution_count": 226,
     "metadata": {},
     "output_type": "execute_result"
    }
   ],
   "source": [
    "df = pd.merge(df_NEISS, df_body, on = 'BodyPartCode')\n",
    "df = pd.merge(df, df_diag, on = 'DiagnosisCode')\n",
    "df = pd.merge(df, df_disp, on = 'DispositionCode')\n",
    "df.head()"
   ]
  },
  {
   "cell_type": "code",
   "execution_count": 231,
   "metadata": {
    "collapsed": false
   },
   "outputs": [
    {
     "name": "stdout",
     "output_type": "stream",
     "text": [
      "<class 'pandas.core.frame.DataFrame'>\n",
      "Int64Index: 65499 entries, 0 to 65498\n",
      "Data columns (total 21 columns):\n",
      "CPSC Case #        65499 non-null int64\n",
      "trmt_date          65499 non-null datetime64[ns]\n",
      "psu                65499 non-null int64\n",
      "weight             65499 non-null float64\n",
      "stratum            65499 non-null object\n",
      "age                65499 non-null int64\n",
      "sex                65499 non-null object\n",
      "race               65499 non-null object\n",
      "race_other         3577 non-null object\n",
      "diag_other         8119 non-null object\n",
      "location           65499 non-null int64\n",
      "fmv                65499 non-null int64\n",
      "prod1              65499 non-null int64\n",
      "prod2              8446 non-null float64\n",
      "narrative          65499 non-null object\n",
      "BodyPartCode       65499 non-null int64\n",
      "DiagnosisCode      65499 non-null int64\n",
      "DispositionCode    65499 non-null int64\n",
      "BodyPart           65499 non-null object\n",
      "Diagnosis          65499 non-null object\n",
      "Disposition        65499 non-null object\n",
      "dtypes: datetime64[ns](1), float64(2), int64(9), object(9)\n",
      "memory usage: 11.0+ MB\n"
     ]
    }
   ],
   "source": [
    "df.info()"
   ]
  },
  {
   "cell_type": "markdown",
   "metadata": {},
   "source": [
    "### <font color='blue'>1. What are the top three body parts most frequently represented in this dataset? What are the top three body parts that are least frequently represented? </font>"
   ]
  },
  {
   "cell_type": "code",
   "execution_count": 95,
   "metadata": {
    "collapsed": false
   },
   "outputs": [
    {
     "data": {
      "text/plain": [
       "Head      9891\n",
       "Face      5786\n",
       "Finger    5783\n",
       "Name: BodyPart, dtype: int64"
      ]
     },
     "execution_count": 95,
     "metadata": {},
     "output_type": "execute_result"
    }
   ],
   "source": [
    "# Top 3\n",
    "df.BodyPart.value_counts().sort_values(ascending=False).head(3)"
   ]
  },
  {
   "cell_type": "code",
   "execution_count": 201,
   "metadata": {
    "collapsed": false
   },
   "outputs": [
    {
     "data": {
      "text/plain": [
       "Not Recorded      390\n",
       "Pubic region      286\n",
       "25-50% of body      4\n",
       "Name: BodyPart, dtype: int64"
      ]
     },
     "execution_count": 201,
     "metadata": {},
     "output_type": "execute_result"
    }
   ],
   "source": [
    "# tail 3\n",
    "df.BodyPart.value_counts().sort_values(ascending=False).tail(3)"
   ]
  },
  {
   "cell_type": "markdown",
   "metadata": {},
   "source": [
    "### <font color='blue'> 2. How many injuries in this dataset involve a skateboard? Of those injuries, what percentage were male and what percentage were female? What was the average age of someone injured in an incident involving a skateboard?</font>"
   ]
  },
  {
   "cell_type": "code",
   "execution_count": 223,
   "metadata": {
    "collapsed": false
   },
   "outputs": [
    {
     "name": "stdout",
     "output_type": "stream",
     "text": [
      "2.a how many injuries in this dataset involve a skateboard\n",
      "- 466\n",
      "\n",
      "2.b Of those injuries, the percentage of male and female are\n",
      "- male:   82.40 \n",
      "- female: 17.60 \n",
      "\n",
      "2.c The average age of skateboard incident is around\n",
      "- 17.99\n"
     ]
    }
   ],
   "source": [
    "df_sb = df[df['narrative'].str.contains('SKATEBOARD')]\n",
    "print (\"2.a how many injuries in this dataset involve a skateboard\")\n",
    "print (\"- %s\" % (df_sb['narrative'].count()) + '\\n')\n",
    "\n",
    "print(\"2.b Of those injuries, the percentage of male and female are\" )\n",
    "print(\"- male:   %0.2f \" % (len(df_sb[df_sb.sex=='Male'])/float(len(df_sb)) * 100))\n",
    "print(\"- female: %0.2f \" % (len(df_sb[df_sb.sex=='Female'])/float(len(df_sb)) * 100) + '\\n')\n",
    "      \n",
    "print(\"2.c The average age of skateboard incident is around\") \n",
    "print (\"- %0.2f\" % (df_sb['age'].mean()))"
   ]
  },
  {
   "cell_type": "markdown",
   "metadata": {},
   "source": [
    "### <font color='blue'>3. What diagnosis had the highest hospitalization rate? What diagnosis most often concluded with the individual leaving without being seen? Briefly discuss your findings and any caveats you'd mention when discussing this data </font>"
   ]
  },
  {
   "cell_type": "code",
   "execution_count": 263,
   "metadata": {
    "collapsed": false
   },
   "outputs": [
    {
     "data": {
      "text/plain": [
       "Treated and released, or examined and released\\n without treatment    59807\n",
       "Treated and admitted for hospitalization (within same facility)        3979\n",
       "Treated and transferred to another hospital                             651\n",
       "Left without being seen/Left against medical advice                     619\n",
       "Held for observation (includes admitted for observation)                415\n",
       "Fatality, including DOA, died in the ED                                  28\n",
       "Name: Disposition, dtype: int64"
      ]
     },
     "execution_count": 263,
     "metadata": {},
     "output_type": "execute_result"
    }
   ],
   "source": [
    "df['Disposition'].value_counts().sort_values(ascending=False)"
   ]
  },
  {
   "cell_type": "code",
   "execution_count": 309,
   "metadata": {
    "collapsed": false
   },
   "outputs": [
    {
     "name": "stdout",
     "output_type": "stream",
     "text": [
      "3.a   \"Fracture\" patients had the highest hospitalization rate as around 45.51%\n"
     ]
    }
   ],
   "source": [
    "# What diagnosis had the highest hospitalization rate?\n",
    "df_hospital = df.loc[df['Disposition'] == 'Treated and admitted for hospitalization (within same facility)']\n",
    "df_hospital_diag = df_hospital['Diagnosis'].value_counts().sort_values(ascending=False)\n",
    "print ('3.a   \"%s\" patients had the highest hospitalization rate as around %0.2f%%' % \n",
    "       (df_hospital_diag.index[0],df_hospital_diag[0]/float(df_hospital['Diagnosis'].count())*100)\n",
    "      )"
   ]
  },
  {
   "cell_type": "code",
   "execution_count": 298,
   "metadata": {
    "collapsed": false
   },
   "outputs": [
    {
     "data": {
      "text/plain": [
       "Fracture                                       1811\n",
       "Internal organ injury                           630\n",
       "Other/Not Stated                                613\n",
       "Contusions, Abrasions                           217\n",
       "Laceration                                      185\n",
       "Poisoning                                        88\n",
       "Concussions                                      70\n",
       "Ingested foreign object                          56\n",
       "Dislocation                                      43\n",
       "Strain or Sprain                                 43\n",
       "Hematoma                                         42\n",
       "Burns, scald (from hot liquids or steam)         29\n",
       "Burns, thermal (from flames or hot surface)      27\n",
       "Submersion (including Drowning)                  23\n",
       "Amputation                                       20\n",
       "Nerve damage                                     17\n",
       "Puncture                                         15\n",
       "Anoxia                                           13\n",
       "Avulsion                                         12\n",
       "Foreign body                                     10\n",
       "Aspirated foreign object                          5\n",
       "Electric shock                                    3\n",
       "Dental injury                                     2\n",
       "Burns, not specified                              2\n",
       "Dermatitis, Conjunctivitis                        2\n",
       "Hemorrhage                                        1\n",
       "Name: Diagnosis, dtype: int64"
      ]
     },
     "execution_count": 298,
     "metadata": {},
     "output_type": "execute_result"
    }
   ],
   "source": [
    "df_hospital['Diagnosis'].value_counts().sort_values(ascending=False)"
   ]
  },
  {
   "cell_type": "code",
   "execution_count": 305,
   "metadata": {
    "collapsed": false
   },
   "outputs": [
    {
     "data": {
      "text/plain": [
       "0.45513948228198042"
      ]
     },
     "execution_count": 305,
     "metadata": {},
     "output_type": "execute_result"
    }
   ],
   "source": [
    "df_hospital['Diagnosis'].value_counts().sort_values(ascending=False)[0]/float(df_hospital['Diagnosis'].count())"
   ]
  },
  {
   "cell_type": "code",
   "execution_count": 297,
   "metadata": {
    "collapsed": false
   },
   "outputs": [
    {
     "data": {
      "text/plain": [
       "3979"
      ]
     },
     "execution_count": 297,
     "metadata": {},
     "output_type": "execute_result"
    }
   ],
   "source": [
    "df_hospital['Diagnosis'].count()"
   ]
  },
  {
   "cell_type": "code",
   "execution_count": 292,
   "metadata": {
    "collapsed": false
   },
   "outputs": [
    {
     "data": {
      "text/plain": [
       "630"
      ]
     },
     "execution_count": 292,
     "metadata": {},
     "output_type": "execute_result"
    }
   ],
   "source": []
  },
  {
   "cell_type": "code",
   "execution_count": 285,
   "metadata": {
    "collapsed": false
   },
   "outputs": [
    {
     "data": {
      "text/plain": [
       "Other/Not Stated         257\n",
       "Laceration               123\n",
       "Internal organ injury     63\n",
       "Name: Diagnosis, dtype: int64"
      ]
     },
     "execution_count": 285,
     "metadata": {},
     "output_type": "execute_result"
    }
   ],
   "source": [
    "# What diagnosis most often concluded with the individual leaving without being seen?\n",
    "df_left = df.loc[df['Disposition'] == 'Left without being seen/Left against medical advice']\n",
    "df_left['Diagnosis'].value_counts().sort_values(ascending=False).head(3)"
   ]
  },
  {
   "cell_type": "code",
   "execution_count": 286,
   "metadata": {
    "collapsed": false
   },
   "outputs": [
    {
     "name": "stdout",
     "output_type": "stream",
     "text": [
      "3.a   \"Other/Not Stated\" had the highest hospitalization rate\n"
     ]
    }
   ],
   "source": [
    "print ('3.a   \"%s\" patients most often concluded as left without medical advice' % \n",
    "       df_left['Diagnosis'].value_counts().sort_values(ascending=False).index[0])"
   ]
  },
  {
   "cell_type": "code",
   "execution_count": 253,
   "metadata": {
    "collapsed": false
   },
   "outputs": [
    {
     "data": {
      "text/plain": [
       "DiagnosisCode  Diagnosis                                  \n",
       "57             Fracture                                       1811\n",
       "62             Internal organ injury                           630\n",
       "71             Other/Not Stated                                613\n",
       "53             Contusions, Abrasions                           217\n",
       "59             Laceration                                      185\n",
       "68             Poisoning                                        88\n",
       "52             Concussions                                      70\n",
       "41             Ingested foreign object                          56\n",
       "64             Strain or Sprain                                 43\n",
       "55             Dislocation                                      43\n",
       "58             Hematoma                                         42\n",
       "48             Burns, scald (from hot liquids or steam)         29\n",
       "51             Burns, thermal (from flames or hot surface)      27\n",
       "69             Submersion (including Drowning)                  23\n",
       "50             Amputation                                       20\n",
       "61             Nerve damage                                     17\n",
       "63             Puncture                                         15\n",
       "65             Anoxia                                           13\n",
       "72             Avulsion                                         12\n",
       "56             Foreign body                                     10\n",
       "42             Aspirated foreign object                          5\n",
       "67             Electric shock                                    3\n",
       "60             Dental injury                                     2\n",
       "47             Burns, not specified                              2\n",
       "74             Dermatitis, Conjunctivitis                        2\n",
       "66             Hemorrhage                                        1\n",
       "dtype: int64"
      ]
     },
     "execution_count": 253,
     "metadata": {},
     "output_type": "execute_result"
    }
   ],
   "source": [
    "counts = df_hospital.groupby(['DiagnosisCode','Diagnosis']).size().sort_values(ascending=False)\n",
    "counts\n",
    "\n",
    "#df[['DispositionCode','Disposition','DispositionCode','Disposition']].groupby(['DispositionCode','Disposition']).agg(['mean', 'count'])"
   ]
  },
  {
   "cell_type": "code",
   "execution_count": null,
   "metadata": {
    "collapsed": true
   },
   "outputs": [],
   "source": [
    "Disposition        "
   ]
  },
  {
   "cell_type": "code",
   "execution_count": null,
   "metadata": {
    "collapsed": true
   },
   "outputs": [],
   "source": []
  },
  {
   "cell_type": "code",
   "execution_count": null,
   "metadata": {
    "collapsed": true
   },
   "outputs": [],
   "source": []
  },
  {
   "cell_type": "markdown",
   "metadata": {},
   "source": [
    "### <font color='blue'>4. Visualize any existing relationship between age and reported injuries (open question) </font>"
   ]
  },
  {
   "cell_type": "markdown",
   "metadata": {},
   "source": []
  },
  {
   "cell_type": "markdown",
   "metadata": {},
   "source": []
  },
  {
   "cell_type": "markdown",
   "metadata": {},
   "source": []
  },
  {
   "cell_type": "markdown",
   "metadata": {},
   "source": []
  },
  {
   "cell_type": "code",
   "execution_count": null,
   "metadata": {
    "collapsed": true
   },
   "outputs": [],
   "source": []
  },
  {
   "cell_type": "code",
   "execution_count": null,
   "metadata": {
    "collapsed": true
   },
   "outputs": [],
   "source": []
  },
  {
   "cell_type": "code",
   "execution_count": null,
   "metadata": {
    "collapsed": true
   },
   "outputs": [],
   "source": []
  },
  {
   "cell_type": "code",
   "execution_count": null,
   "metadata": {
    "collapsed": true
   },
   "outputs": [],
   "source": []
  },
  {
   "cell_type": "code",
   "execution_count": null,
   "metadata": {
    "collapsed": true
   },
   "outputs": [],
   "source": []
  },
  {
   "cell_type": "code",
   "execution_count": null,
   "metadata": {
    "collapsed": true
   },
   "outputs": [],
   "source": []
  },
  {
   "cell_type": "code",
   "execution_count": null,
   "metadata": {
    "collapsed": true
   },
   "outputs": [],
   "source": []
  },
  {
   "cell_type": "code",
   "execution_count": null,
   "metadata": {
    "collapsed": true
   },
   "outputs": [],
   "source": []
  },
  {
   "cell_type": "code",
   "execution_count": null,
   "metadata": {
    "collapsed": true
   },
   "outputs": [],
   "source": []
  },
  {
   "cell_type": "code",
   "execution_count": null,
   "metadata": {
    "collapsed": true
   },
   "outputs": [],
   "source": []
  },
  {
   "cell_type": "code",
   "execution_count": null,
   "metadata": {
    "collapsed": true
   },
   "outputs": [],
   "source": []
  },
  {
   "cell_type": "code",
   "execution_count": null,
   "metadata": {
    "collapsed": true
   },
   "outputs": [],
   "source": []
  },
  {
   "cell_type": "code",
   "execution_count": null,
   "metadata": {
    "collapsed": true
   },
   "outputs": [],
   "source": []
  }
 ],
 "metadata": {
  "anaconda-cloud": {},
  "kernelspec": {
   "display_name": "Python [conda env:gl-env]",
   "language": "python",
   "name": "conda-env-gl-env-py"
  },
  "language_info": {
   "codemirror_mode": {
    "name": "ipython",
    "version": 2
   },
   "file_extension": ".py",
   "mimetype": "text/x-python",
   "name": "python",
   "nbconvert_exporter": "python",
   "pygments_lexer": "ipython2",
   "version": "2.7.11"
  }
 },
 "nbformat": 4,
 "nbformat_minor": 1
}
